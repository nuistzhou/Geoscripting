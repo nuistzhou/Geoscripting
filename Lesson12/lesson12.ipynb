{
 "cells": [
  {
   "cell_type": "markdown",
   "metadata": {},
   "source": [
    "# Lesson 12 Exercise"
   ]
  },
  {
   "cell_type": "code",
   "execution_count": null,
   "metadata": {
    "collapsed": false
   },
   "outputs": [],
   "source": [
    "# Rodrigo Almeida, Ping\n",
    "# Team Dragon Masters\n",
    "# 24/01/2017\n",
    "\n",
    "# Import modules\n",
    "import os\n",
    "from osgeo import gdal\n",
    "from osgeo.gdalconst import GA_ReadOnly, GDT_Float32\n",
    "import numpy as np\n",
    "import urllib\n",
    "import tarfile\n",
    "\n",
    "# Set working directory to path of main.py\n",
    "working_path = os.path.dirname(os.path.realpath(\"__file__\"))\n",
    "os.chdir(working_path)\n",
    "\n",
    "# Create data folder if not exists\n",
    "if not os.path.exists('data'):\n",
    "    os.makedirs('data')\n",
    "    \n",
    "# Download and unzip file\n",
    "url = \"https://www.dropbox.com/s/zb7nrla6fqi1mq4/LC81980242014260-SC20150123044700.tar.gz?dl=1\"\n",
    "urllib.urlretrieve (url,\"data/LC8.tar.gz\")\n",
    "tar = tarfile.open(\"data/LC8.tar.gz\")\n",
    "tar.extractall(\"data/LC8\")\n",
    "lc8 = tar.getnames()\n",
    "tar.close()\n",
    "\n",
    "# Removes the tar file\n",
    "os.remove(\"data/LC8.tar.gz\")\n",
    "\n",
    "# Creates a list of the necessary files and opens them\n",
    "data_source = []\n",
    "# elem 0 is 4, elem 1 is 5\n",
    "lc8_4_5 = filter(lambda s: re.match(r\".*band[45].tif\",s), lc8)\n",
    "for fl in lc8_4_5:\n",
    "    data_source += [gdal.Open('data/LC8/'+fl, GA_ReadOnly)]\n",
    "\n",
    "# Define the function to derive NDWI\n",
    "def ndwi(band4,band5):\n",
    "    return (band4-band5)/(band4+band5)\n",
    "    \n",
    "# Read data into array\n",
    "ds_array = []\n",
    "for ds in data_source:\n",
    "    ds_array += [ds.GetRasterBand(1).ReadAsArray(0,0,ds.RasterXSize, ds.RasterYSize)]\n",
    "\n",
    "# Set the data type\n",
    "ds_array[0] = ds_array[0].astype(np.float32)\n",
    "ds_array[1] = ds_array[1].astype(np.float32)\n",
    "\n",
    "# Derive the NDWI, mask for denominator > 0\n",
    "mask = np.greater(ds_array[0]+ds_array[1],0)\n",
    "\n",
    "# set np.errstate to avoid warning of invalid values (i.e. NaN values) in the divide \n",
    "with np.errstate(invalid='ignore', divide = 'ignore'):\n",
    "    ndwi = np.choose(mask,(-99,ndwi(ds_array[0],ds_array[1])))\n",
    "\n",
    "# Write the result to disk\n",
    "driver = gdal.GetDriverByName('GTiff')\n",
    "outDataSet = driver.Create('data/ndwi.tif', data_source[0].RasterXSize, data_source[0].RasterYSize, 1, GDT_Float32)\n",
    "outBand = outDataSet.GetRasterBand(1)\n",
    "outBand.WriteArray(ndwi,0,0)\n",
    "outBand.SetNoDataValue(-99)\n",
    "\n",
    "# set the projection and extent information of the dataset\n",
    "outDataSet.SetProjection(data_source[0].GetProjection())\n",
    "outDataSet.SetGeoTransform(data_source[0].GetGeoTransform())\n",
    "\n",
    "# Finally let's save it... or like in the OGR example flush it\n",
    "outBand.FlushCache()\n",
    "outDataSet.FlushCache()"
   ]
  },
  {
   "cell_type": "markdown",
   "metadata": {},
   "source": [
    "This script saves the calculated NDWI into data/ndwi.tif.   \n",
    "__Now we will use a bash command to reproject the file, into lat long. __ "
   ]
  },
  {
   "cell_type": "code",
   "execution_count": null,
   "metadata": {
    "collapsed": false
   },
   "outputs": [],
   "source": [
    "!gdalwarp -t_srs \"EPSG:4326\" data/ndwi.tif data/ndwi_ll.tif"
   ]
  },
  {
   "cell_type": "markdown",
   "metadata": {},
   "source": [
    "__Displays the resulting file__"
   ]
  },
  {
   "cell_type": "code",
   "execution_count": null,
   "metadata": {
    "collapsed": false
   },
   "outputs": [],
   "source": [
    "# Notebook magic to select the plotting method\n",
    "# Change to inline to plot within this notebook \n",
    "from osgeo import gdal\n",
    "import matplotlib.pyplot as plt\n",
    "# Open image\n",
    "dsll = gdal.Open(\"data/ndwi_ll.tif\")\n",
    "\n",
    "# Read raster data\n",
    "ndwi = dsll.ReadAsArray(0, 0, dsll.RasterXSize, dsll.RasterYSize)\n",
    "\n",
    "# Now plot the raster data using gist_earth palette\n",
    "plt.imshow(ndwi, interpolation='nearest', vmin=0, cmap=plt.cm.gist_earth)\n",
    "plt.show()\n",
    "\n",
    "dsll = None"
   ]
  }
 ],
 "metadata": {
  "kernelspec": {
   "display_name": "Python 2",
   "language": "python",
   "name": "python2"
  },
  "language_info": {
   "codemirror_mode": {
    "name": "ipython",
    "version": 2
   },
   "file_extension": ".py",
   "mimetype": "text/x-python",
   "name": "python",
   "nbconvert_exporter": "python",
   "pygments_lexer": "ipython2",
   "version": "2.7.12"
  },
  "widgets": {
   "state": {},
   "version": "1.1.2"
  }
 },
 "nbformat": 4,
 "nbformat_minor": 2
}
