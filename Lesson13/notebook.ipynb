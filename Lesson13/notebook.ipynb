{
 "cells": [
  {
   "cell_type": "markdown",
   "metadata": {},
   "source": [
    "# Lesson 14 Assignment"
   ]
  },
  {
   "cell_type": "code",
   "execution_count": 5,
   "metadata": {
    "collapsed": true
   },
   "outputs": [],
   "source": [
    "\"\"\"\n",
    "Created on Thu Jan 26 10:12:02 2017\n",
    "\n",
    "@author: rodrigo & ping\n",
    "\"\"\"\n",
    "# loads necessary libraries\n",
    "from twython import Twython\n",
    "import json\n",
    "import datetime\n",
    "from geojson import Feature, Point, FeatureCollection\n",
    "import geojson\n",
    "import folium\n",
    "import requests\n",
    "\n",
    "# codes to access twitter API. \n",
    "APP_KEY = 'pNkSd6deMzM0qqsINoF34Fhhi'\n",
    "APP_SECRET = \t'VxmaFUlp4O94pvby8AQ3QJD37WHqByxw4oHLMfriJmn0S7anzw'\n",
    "OAUTH_TOKEN = '55011261-S1KE8sVU6jY16yw7SWNGhsCxxKVOfd2k2Kl9yJt9q'\n",
    "OAUTH_TOKEN_SECRET = \t'XRy2YdXFR6FX9xsSou0Rwno8TgWVVsDdALtqens2BbpJR'\n",
    "\n",
    "# initiating Twython object \n",
    "twitter = Twython(APP_KEY, APP_SECRET, OAUTH_TOKEN, OAUTH_TOKEN_SECRET)\n",
    "\n",
    "# search tweets 25 km of the center of Lisbon in english\n",
    "search_results = twitter.search(q= '#lisbon',lang='en', geocode = '38.707587,-9.136502,25km', count = 1000)\n",
    "\n",
    "# parses the necessary info from the search results and gets it into geojson object\n",
    "features = []\n",
    "for tweet in search_results[\"statuses\"]:\n",
    "    data = {}\n",
    "    # only writes tweets that have coordinates\n",
    "    if tweet['coordinates'] != None:\n",
    "        coordinates = tweet['coordinates']\n",
    "        data['tweettext'] = tweet['text']\n",
    "        data['created'] = tweet['created_at']\n",
    "        data['likes'] = tweet['favorite_count']\n",
    "        if tweet['place'] != None:\n",
    "            data['full_place_name'] = tweet['place']['full_name']\n",
    "            data['place_type'] =  tweet['place']['place_type']\n",
    "        # maybe the coordinates in point should be placed in the reversed order (1 and 0)\n",
    "        point = Point((coordinates['coordinates'][0], coordinates['coordinates'][1]))\n",
    "        # uses a post request to analyse the sentiment of the tweet\n",
    "        res = requests.post('http://text-processing.com/api/sentiment/', data = {'text':data['tweettext']})\n",
    "        # gets the result of the request into the geojson\n",
    "        data['emotion'] = res.json()['label']\n",
    "        feat = Feature(geometry = point, properties = data)\n",
    "        features += [feat]\n",
    "        \n",
    "# creates the collection of features\n",
    "collection = FeatureCollection(features)\n",
    "\n",
    "# creates a geojson files\n",
    "fl = open('tweets.geojson', 'w') \n",
    "geojson.dump(collection, fl)\n",
    "fl.close()\n",
    "\n",
    "# uses folium to plot the points in the map\n",
    "lis_map = folium.Map(location=[38.707587,-9.136502],\n",
    "                   tiles='openstreetmap', zoom_start=12)\n",
    "# loops through every feature to plot the tweet and gives a different color according to the emotion\n",
    "f = collection['features']\n",
    "for feat in f:\n",
    "    if feat['properties']['emotion'] == 'neg':\n",
    "        c = 'red'\n",
    "    elif feat['properties']['emotion'] == 'neutral':\n",
    "        c = 'blue'\n",
    "    else:\n",
    "        c = 'green'\n",
    "    # [::-1] is used to invert the tuple of coordinates\n",
    "    folium.Marker(list(feat['geometry']['coordinates'])[::-1], popup = feat['properties']['tweettext'], icon = folium.Icon(color=c,icon='info-sign') ).add_to(lis_map)\n",
    "\n",
    "# saves the map\n",
    "lis_map.save('lis_map.html')"
   ]
  }
 ],
 "metadata": {
  "kernelspec": {
   "display_name": "Python 2",
   "language": "python",
   "name": "python2"
  },
  "language_info": {
   "codemirror_mode": {
    "name": "ipython",
    "version": 2
   },
   "file_extension": ".py",
   "mimetype": "text/x-python",
   "name": "python",
   "nbconvert_exporter": "python",
   "pygments_lexer": "ipython2",
   "version": "2.7.12"
  }
 },
 "nbformat": 4,
 "nbformat_minor": 2
}
